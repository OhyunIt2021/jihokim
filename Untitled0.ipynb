{
  "nbformat": 4,
  "nbformat_minor": 0,
  "metadata": {
    "colab": {
      "name": "Untitled0.ipynb의 사본",
      "provenance": [],
      "collapsed_sections": []
    },
    "kernelspec": {
      "name": "python3",
      "display_name": "Python 3"
    },
    "language_info": {
      "name": "python"
    }
  },
  "cells": [
    {
      "cell_type": "code",
      "metadata": {
        "id": "bbwGX8RPsf9H"
      },
      "source": [
        "#AND게이트 구현\n",
        "#입력 x1과 입력 x2가 모두 참일 때 1을 출력한다\n",
        "\n",
        "def AND(x1, x2):\n",
        "  w1, w2, theta = 1, 1, 0\n",
        "  value = w1*x1 + w2*x2\n",
        "  if value <= theta:\n",
        "   return 0\n",
        "  elif value > theta:\n",
        "   return 1"
      ],
      "execution_count": null,
      "outputs": []
    },
    {
      "cell_type": "code",
      "metadata": {
        "colab": {
          "base_uri": "https://localhost:8080/"
        },
        "id": "EpUHbJRKt1OL",
        "outputId": "940ae07d-7e2d-4e78-f059-28d694d897bf"
      },
      "source": [
        "print(AND(1,1))\n",
        "print(AND(0,0))\n",
        "print(AND(1,0))\n",
        "print(AND(0,1))"
      ],
      "execution_count": null,
      "outputs": [
        {
          "output_type": "stream",
          "text": [
            "1\n",
            "0\n",
            "1\n",
            "1\n"
          ],
          "name": "stdout"
        }
      ]
    },
    {
      "cell_type": "code",
      "metadata": {
        "id": "bGENizrfuS0u"
      },
      "source": [
        "def OR(x1, x2):\n",
        "  w1, w2, theta = 1, 1, 0 \n",
        "  value = w1*x1 + w2*x2\n",
        "  if value <= theta:\n",
        "   return 0\n",
        "  elif value > theta:\n",
        "   return 1"
      ],
      "execution_count": null,
      "outputs": []
    },
    {
      "cell_type": "code",
      "metadata": {
        "colab": {
          "base_uri": "https://localhost:8080/"
        },
        "id": "5Hr84bbOu5P7",
        "outputId": "b0173ece-5479-449f-b4f6-c9ed307b8bc9"
      },
      "source": [
        "print(OR(1,1))\n",
        "print(OR(0,0))\n",
        "print(OR(1,0))\n",
        "print(OR(0,1))"
      ],
      "execution_count": null,
      "outputs": [
        {
          "output_type": "stream",
          "text": [
            "1\n",
            "0\n",
            "1\n",
            "1\n"
          ],
          "name": "stdout"
        }
      ]
    },
    {
      "cell_type": "code",
      "metadata": {
        "id": "XW_o5ZU0v9tb"
      },
      "source": [
        ""
      ],
      "execution_count": null,
      "outputs": []
    }
  ]
}